{
 "cells": [
  {
   "cell_type": "markdown",
   "id": "ffa63018",
   "metadata": {},
   "source": [
    "# Analyzing Spectral Reflectance within Intertidal Zones"
   ]
  },
  {
   "cell_type": "markdown",
   "id": "4954ab10",
   "metadata": {},
   "source": [
    "**Summary**\n",
    "This tutorial demonstrates how to use Earth observation data from NASA's ECOSTRESS and EMIT missions alongside in situ spectral reflectance measurements to investigate environmental conditions and biodiversity in the intertidal zones of Southern California. Specifically, this notebook focuses on analyzing taxonomic diversity—such as algae types by comparing satellite data with groundtruthing reflectance spectra collected from tidepools. \n",
    "\n",
    "We aim to better understand how spectral signatures correspond to observable biological patterns by integrating:\n",
    "\n",
    "- ECOSTRESS LST and emissivity layers (including LST, cloud mask, and quality control flags)\n",
    "\n",
    "- EMIT full-band Level 2A reflectance data, and\n",
    "\n",
    "- Normalized field-collected spectral data\n",
    "\n",
    "Ultimately, the goal is to support coastal monitoring and climate adaptation efforts by incorporating various NASA missions\n",
    "\n",
    "**Learning Objectives**\n",
    "\n",
    "- What is spectral diversity and how does it relate to biodiversity?\n",
    "- How to prepare and analyze reflectance data sets from on-ground and satellite observations. \n",
    "- Compare spectral diversity across sites and sensor types using summary statistics and visual plots.\n",
    "\n",
    "_______________________________________________________________________________________________________________________________________________________"
   ]
  },
  {
   "cell_type": "markdown",
   "id": "eb6847a1",
   "metadata": {},
   "source": [
    "**Part 1: Data Setup and Dependencies**\n",
    "\n",
    "Create a working environment with required packages. Be sure to active your environment and choose the right kernel each time you work on your project."
   ]
  },
  {
   "cell_type": "code",
   "execution_count": 17,
   "id": "0c6573e0",
   "metadata": {},
   "outputs": [],
   "source": [
    "#Run in Terminal: mamba create -n (environmentname) -c conda-forge --yes python=3.12 gdal fiona hvplot geoviews rioxarray rasterio jupyter geopandas earthaccess jupyter_bokeh h5py h5netcdf spectral scikit-image jupyterlab seaborn dask ray-default pystac-client odc-stac pyresample libgdal-hdf4 harmony-py\n",
    "\n",
    "# Import required libraries\n",
    "import os\n",
    "import json\n",
    "import folium\n",
    "import earthaccess\n",
    "import pandas as pd\n",
    "import geopandas as gpd\n",
    "import matplotlib.pyplot as plt\n",
    "import matplotlib.colors as mcolors\n",
    "import cartopy.crs as ccrs\n",
    "\n",
    "from branca.element import Figure\n",
    "from shapely.geometry import MultiPolygon, Polygon, box\n",
    "from shapely.geometry.polygon import orient\n",
    "from datetime import timedelta\n",
    "from earthaccess import DataGranules\n"
   ]
  },
  {
   "cell_type": "markdown",
   "id": "8b999be9",
   "metadata": {},
   "source": [
    "**Part 2: NASA Earthdata Authentication**\n",
    "\n",
    "To access data from NASA Earthdata, you must first authenticate using the earthaccess library. Follow the interactive login prompt that appears to sign in with your NASA Earthdata credentials (email and password associated with your Earthdata account). This step ensures you have authorized access to download and search Earth observation datasets.\n",
    "\n",
    "If you haven’t registered yet, create a free account here: https://urs.earthdata.nasa.gov/users/new"
   ]
  },
  {
   "cell_type": "code",
   "execution_count": 19,
   "id": "3b19384b",
   "metadata": {},
   "outputs": [
    {
     "name": "stdout",
     "output_type": "stream",
     "text": [
      "Authenticated: True\n"
     ]
    }
   ],
   "source": [
    "# Authenticate earthaccess\n",
    "auth = earthaccess.Auth()\n",
    "auth.login(strategy=\"interactive\", persist=True)\n",
    "print('Authenticated:', auth.authenticated)"
   ]
  },
  {
   "cell_type": "markdown",
   "id": "8a43799b",
   "metadata": {},
   "source": [
    "**Part 3: Loading In Situ Data**\n",
    "\n",
    "In order to analyze field sites, in situ data must be loaded in. Replace the file names with your own geojson In Situ file. If only remote sensing practices will be used, commment out this code."
   ]
  },
  {
   "cell_type": "code",
   "execution_count": null,
   "id": "cbf66d2f",
   "metadata": {},
   "outputs": [],
   "source": [
    "#Define Region(s) of Interest for ECOSTRESS and EMIT Requests. \n",
    "%matplotlib inline\n",
    "LCDMPolygon = gpd.read_file(\"/Users/kylamonique/Desktop/JPLFiles/SpectralEvolution/GIS/Waypoints/LCDMPolygon.geojson\")\n",
    "SDPolygon = gpd.read_file(\"/Users/kylamonique/Desktop/JPLFiles/SpectralEvolution/GIS/Waypoints/SDPolygon.geojson\")\n",
    "PVPolygon = gpd.read_file(\"/Users/kylamonique/Desktop/JPLFiles/SpectralEvolution/GIS/Waypoints/PVPolygon.geojson\")\n",
    "\n",
    "print(LCDMPolygon.head())\n",
    "print(SDPolygon.head())\n",
    "print(PVPolygon.head())\n",
    "\n",
    "LCDMPolygon.plot() #not necessary to plot. The plot will show the boundaries of you POI. \n",
    "SDPolygon.plot()\n",
    "PVPolygon.plot()"
   ]
  },
  {
   "cell_type": "markdown",
   "id": "2221b51c",
   "metadata": {},
   "source": [
    "**Part 3a: Visualizing Sample Locations**\n",
    "\n",
    "It is helpful to validate whether your data was loaded in properly. Visualizing your AOI will also assist in analysis."
   ]
  },
  {
   "cell_type": "code",
   "execution_count": null,
   "id": "cc99a769",
   "metadata": {},
   "outputs": [],
   "source": [
    "#Visualize Sample Locations Within One Grid\n",
    "\n",
    "# Load GeoJSON files\n",
    "LCDMQuadrat = gpd.read_file(\"/Users/kylamonique/Desktop/JPLFiles/SpectralEvolution/GIS/Waypoints/LCDMQuadrat.geojson\")\n",
    "SDQuadrat = gpd.read_file(\"/Users/kylamonique/Desktop/JPLFiles/SpectralEvolution/GIS/Waypoints/SDQuadrat.geojson\")\n",
    "PVQuadrat = gpd.read_file(\"/Users/kylamonique/Desktop/JPLFiles/SpectralEvolution/GIS/Waypoints/PVQuadrat.geojson\")\n",
    "\n",
    "print(LCDMQuadrat.head())\n",
    "print(SDQuadrat.head())\n",
    "print(PVQuadrat.head())\n",
    "\n",
    "# Set up the plot with Cartopy for mapping\n",
    "fig, ax = plt.subplots(figsize=(12, 8), subplot_kw={'projection': ccrs.PlateCarree()})\n",
    "\n",
    "# Add high-resolution coastlines and gridlines\n",
    "ax.coastlines(resolution='10m')\n",
    "gl = ax.gridlines(draw_labels=True, linestyle='--', alpha=0.5)\n",
    "gl.top_labels = gl.right_labels = False\n",
    "\n",
    "# Plot the GeoDataFrames\n",
    "LCDMQuadrat.plot(ax=ax, marker='o', color='red', label='LCDM', transform=ccrs.PlateCarree())\n",
    "SDQuadrat.plot(ax=ax, marker='^', color='green', label='SD', transform=ccrs.PlateCarree())\n",
    "PVQuadrat.plot(ax=ax, marker='s', color='blue', label='PV', transform=ccrs.PlateCarree())\n",
    "\n",
    "plt.legend()\n",
    "plt.title(\"Site Sampling Locations\")\n",
    "plt.show()\n",
    "\n",
    "\n",
    "# Visualize quadrat locations per site.\n",
    "\n",
    "def plot_quadrats(gdf, title, color, marker):\n",
    "    fig, ax = plt.subplots(figsize=(10, 6), subplot_kw={'projection': ccrs.PlateCarree()})\n",
    "    \n",
    "    ax.coastlines(resolution='10m')    # Plot coastlines\n",
    "    gl = ax.gridlines(draw_labels=True, linestyle='--', alpha=0.5)     # Gridlines\n",
    "    gl.top_labels = gl.right_labels = False\n",
    "    gdf.plot(ax=ax, color=color, marker=marker, alpha=0.8, transform=ccrs.PlateCarree(), label=title)     # Plot quadrats\n",
    "\n",
    "    # Auto-zoom to the bounds of the GeoDataFrame (pad for clarity)\n",
    "    minx, miny, maxx, maxy = gdf.total_bounds\n",
    "    padding = 0.0001 # degree buffer\n",
    "    ax.set_extent([minx - padding, maxx + padding, miny - padding, maxy + padding], crs=ccrs.PlateCarree())\n",
    "\n",
    "    # Title and legend\n",
    "    plt.title(title)\n",
    "    plt.legend()\n",
    "    plt.show()\n",
    "\n",
    "\n",
    "# Plot each one separately\n",
    "#Coasts will not be visible due to space constraints.\n",
    "plot_quadrats(LCDMQuadrat, \"LCDM Quadrat Sites\", \"red\", \"o\") \n",
    "plot_quadrats(SDQuadrat,   \"SD Quadrat Sites\",   \"green\", \"^\")\n",
    "plot_quadrats(PVQuadrat,   \"PV Quadrat Sites\",   \"blue\", \"s\")\n"
   ]
  },
  {
   "cell_type": "markdown",
   "id": "8dc45b53",
   "metadata": {},
   "source": [
    "**Part 4: Accessing and Utilizing ECOSTRESS and EMIT Data**\n",
    "\n",
    "The next step is to match In situ data to the corresponding satellite observations from ECOSTRESS and EMIT. The code below is to collect concurrent data for Little Corona Del Mar, Newport Beach.The granules that are found for the site will be printed for this code."
   ]
  },
  {
   "cell_type": "code",
   "execution_count": 25,
   "id": "abab1e97",
   "metadata": {},
   "outputs": [
    {
     "name": "stdout",
     "output_type": "stream",
     "text": [
      "ECOSTRESS granules found: 218\n",
      "EMIT granules found: 12\n"
     ]
    }
   ],
   "source": [
    "import earthaccess\n",
    "import geopandas as gpd\n",
    "\n",
    "lcdm_poly = gpd.read_file(\"/Users/kylamonique/Desktop/JPLFiles/SpectralEvolution/GIS/Waypoints/LCDMPolygon.geojson\")\n",
    "minx, miny, maxx, maxy = lcdm_poly.total_bounds  # xmin, ymin, xmax, ymax\n",
    "\n",
    "# Expand bounding box by 0.05 degrees (approx ~5-6km) Remove comment if needed. \n",
    "# buffer_deg = 0.05\n",
    "# minx, miny, maxx, maxy = lcdm_poly.total_bounds\n",
    "# minx -= buffer_deg\n",
    "# miny -= buffer_deg\n",
    "# maxx += buffer_deg\n",
    "# maxy += buffer_deg\n",
    "\n",
    "#Set time window\n",
    "start_date = \"2024-05-01\"\n",
    "end_date = \"2025-05-31\"\n",
    "\n",
    "# Search ECOSTRESS granules\n",
    "ecostress_granules = earthaccess.search_data(\n",
    "    short_name=\"ECO_L2T_LSTE\",\n",
    "    cloud_hosted=True,\n",
    "    temporal=(start_date, end_date),\n",
    "    bounding_box=(minx, miny, maxx, maxy)\n",
    ")\n",
    "\n",
    "# Search EMIT granules\n",
    "emit_granules = earthaccess.search_data(\n",
    "    short_name=\"EMITL2ARFL\",\n",
    "    cloud_hosted=True,\n",
    "    temporal=(start_date, end_date),\n",
    "    bounding_box=(minx, miny, maxx, maxy)\n",
    ")\n",
    "\n",
    "print(f\"ECOSTRESS granules found: {len(ecostress_granules)}\")\n",
    "print(f\"EMIT granules found: {len(emit_granules)}\")\n"
   ]
  },
  {
   "cell_type": "code",
   "execution_count": null,
   "id": "da30b652",
   "metadata": {},
   "outputs": [],
   "source": [
    "#Granule Inspection - What data can be found within the granules?\n",
    "#ECOSTRESS\n",
    "for i, granule in enumerate(ecostress_granules[:5]):  # Just show first 5 for brevity\n",
    "    print(f\"Granule {i+1}\")\n",
    "    print(\"Title:\", granule.get(\"title\", \"N/A\"))\n",
    "    print(\"Size:\", granule.get(\"size\", \"N/A\"))\n",
    "    \n",
    "    # Get download links\n",
    "    print(\"Files:\")\n",
    "    for link in granule.data_links(access=\"direct\"):\n",
    "        print(\" -\", link)\n",
    "    print(\"---\")\n",
    "\n",
    "\n",
    "#EMIT\n",
    "for i, granule in enumerate(emit_granules[:5]):  # Just show first 5 for brevity\n",
    "    print(f\"Granule {i+1}\")\n",
    "    print(\"Title:\", granule.get(\"title\", \"N/A\"))\n",
    "    print(\"Size:\", granule.get(\"size\", \"N/A\"))\n",
    "    \n",
    "    # Get download links\n",
    "    print(\"Files:\")\n",
    "    for link in granule.data_links(access=\"direct\"):\n",
    "        print(\" -\", link)\n",
    "    print(\"---\")    \n"
   ]
  },
  {
   "cell_type": "code",
   "execution_count": null,
   "id": "2cf1140b",
   "metadata": {},
   "outputs": [],
   "source": [
    "\"\"\"\n",
    "Next Steps: \n",
    "\n",
    "How to access concurrent EOCSTRESS and EMIT Data \n",
    "Filter out to only relevant site areas \n",
    "How to compare field data to site data\n",
    "Analyze Temporal and Spectral Resolutions \n",
    "\"\"\""
   ]
  }
 ],
 "metadata": {
  "kernelspec": {
   "display_name": "Python 3 (ipykernel)",
   "language": "python",
   "name": "python3"
  },
  "language_info": {
   "codemirror_mode": {
    "name": "ipython",
    "version": 3
   },
   "file_extension": ".py",
   "mimetype": "text/x-python",
   "name": "python",
   "nbconvert_exporter": "python",
   "pygments_lexer": "ipython3",
   "version": "3.12.11"
  }
 },
 "nbformat": 4,
 "nbformat_minor": 5
}
